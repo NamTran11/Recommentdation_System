{
 "cells": [
  {
   "cell_type": "markdown",
   "metadata": {},
   "source": [
    "### Recommendation Systems"
   ]
  },
  {
   "cell_type": "markdown",
   "metadata": {},
   "source": [
    "nói nôn na là một hệ thống có khả năng gợi ý cho từng user biết được những sản phẩm họ chưa xem và có thể thích, làm tăng hiệu quả marketing, Gồm 2 nhóm thuật toán chính\n",
    "- Content-Based systems: yêu cầu là phải đánh giá được đặc tính của từng item được recommened ,trong nhiều trường hợp việc này là không khả thi , vì đặc tính của từng item có thể là do user vote nhưng rất hiếm trường hợp này. Tiến hành xây dựng model cho từng user và việc xây dựng các model này là độc lập với các user khác (không dùng dữ liệu của các user khác). Không tối ưu vì tính toán quá nhiều , trong khi thông tin của các user khác rất có ích \n",
    "- Collaborative Filtering: hệ thống gợi ý items dựa trên sự tương quan giữa user vo"
   ]
  },
  {
   "cell_type": "code",
   "execution_count": null,
   "metadata": {},
   "outputs": [],
   "source": []
  }
 ],
 "metadata": {
  "kernelspec": {
   "display_name": "Python 3",
   "language": "python",
   "name": "python3"
  },
  "language_info": {
   "codemirror_mode": {
    "name": "ipython",
    "version": 3
   },
   "file_extension": ".py",
   "mimetype": "text/x-python",
   "name": "python",
   "nbconvert_exporter": "python",
   "pygments_lexer": "ipython3",
   "version": "3.6.6rc1"
  }
 },
 "nbformat": 4,
 "nbformat_minor": 2
}
